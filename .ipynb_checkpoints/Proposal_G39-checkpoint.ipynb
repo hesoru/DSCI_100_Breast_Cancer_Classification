{
 "cells": [
  {
   "cell_type": "markdown",
   "id": "190458e2-e7f1-4446-b7b3-d0725f302142",
   "metadata": {},
   "source": [
    "# Project Proposal - Group 39"
   ]
  },
  {
   "cell_type": "markdown",
   "id": "a3492485-da98-4549-9843-f01f0d6a967e",
   "metadata": {},
   "source": [
    "## 1. Introduction :\n",
    "\n",
    "\n",
    "The topic of our project focuses on the analysis of breast cancer samples and their proteomes to predict stages of cancer. The data set we will be using for this is called “Breast Cancer Proteomes” sourced from Kaggle and uploaded by Kajot. This data contains 77 breast cancer samples with over 12,000 genes per sample and analyzes the proteomes found in each gene. The samples used in this data set were collected by the Clinical Proteomic Tumour Analysis Consortium. In order to narrow the scope of the data, our group will be looking at the top 10 highly expressed proteins in tumours that are AJCC stage three or higher. AJCC staging is the Cancer Staging System developed by the American Joint Committee on Cancer that classifies the severity of cancer in regard to the primary tumour and can be used to show the extent in which the cancer has spread. This tool is helpful for determining a prognosis and can serve as the basis for developing the most effective treatment plan on an individual basis. The question we are trying to answer is, by using the top 10 highly expressed proteins in tumours that are AJCC stage three or higher, can we identify a pattern that correlates to the severity of the cancer in order to predict and classify the stage?"
   ]
  },
  {
   "cell_type": "markdown",
   "id": "284240d9-ed41-4e57-a1de-a72b6747d93c",
   "metadata": {},
   "source": [
    "## 2. Preliminary Analysis\n",
    "Our GitHub repository can be found at: hesoru/DSCI_100_Breast_Cancer_Classification\n",
    "\n",
    "Dataset Source: Our Breast Cancer Proteomes dataset was obtained from Kaggle at the following URL: \n",
    "\n",
    "https://www.kaggle.com/datasets/piotrgrabo/breastcancerproteomes/?fbclid=IwAR0c9gONWYSIGAQ6R66rUkjaFVtiwxH15b_XfVATdICBEEp0Ait9o6VZaIY\n",
    "\n",
    "This dataset was downloaded and the following files were uploaded to our GitHub repository (hesoru/DSCI_100_Breast_Cancer_Classification/Original_Datasets)\n",
    "- Proteomics data: 77_cancer_proteomes_CPTAC_itraq.csv\n",
    "- Clinical data: clinical_data_breast_cancer.csv \n",
    "\n",
    "We used a Jupyter notebook to document reading, cleaning, and wrangling of our data into a tidy format, and preliminary exploration of the tidied dataset. This notebook can be found at:\n",
    "\n",
    "hesoru/DSCI_100_Breast_Cancer_Classification/Tidying_Data_and_Exploration.ipynb\n",
    "\n",
    "| AJCC Stage | Patients |\n",
    "|------------|----------|\n",
    "|Stage I | 2 |\n",
    "|Stage IA | 3 |\n",
    "|Stage IB | 1 |\n",
    "|Stage II | 8 |\n",
    "|Stage IIA | 21 |\n",
    "|Stage IIB | 14 |\n",
    "|Stage III | 2 |\n",
    "|Stage IIIA | 6 |\n",
    "|Stage IIIB | 4 |\n",
    "|Stage IIIC | 4 |\n",
    "|Stage IV | 0 |"
   ]
  },
  {
   "cell_type": "markdown",
   "id": "d896ce68-5a4d-468b-a393-5307701f85d8",
   "metadata": {
    "jp-MarkdownHeadingCollapsed": true,
    "tags": []
   },
   "source": [
    "## 3. Methods\n",
    "\n",
    "We will perform K nearest neighbors classification of our testing dataset (25% of the entire dataset):\n",
    "- Parameters: the log2 protein expression of the top 10 most highly expressed proteins in stage III+ breast cancer, identified earlier in our analysis (see jupyter notebook on the GitHub)\n",
    "- Predicted class: AJCC stage of tumor samples\n",
    "\n",
    "Our classifier will be trained on our training data (75% of our dataset). We will tune K using our training dataset and assess its accuracy by comparing classifier predictions of AJCC stage to the actual AJCC stages of our tumor samples in the testing dataset.\n",
    "\n",
    "We aim to create the following visualizations:\n",
    "- Bar plot with AJCC class on the x-axis, and sample counts under each class based on the classifier vs. actual observation on the y-axis\n",
    "- Estimated accuracy of classifier on the y-axis and neighbors on the x-axis (tuning K)\n",
    "- Since we're using 10 parameters for our classifier, it's not practical to plot the training/testing data on a scatterplot including all the parameters (10 axes!)\n"
   ]
  },
  {
   "cell_type": "markdown",
   "id": "35d5d90d-6bdd-4e29-bd70-cfb5557b7f32",
   "metadata": {},
   "source": [
    "## 4.Expected outcomes and significance"
   ]
  },
  {
   "cell_type": "markdown",
   "id": "d430915b-c7b6-49d2-8cb1-c5e6ab14b52a",
   "metadata": {
    "tags": []
   },
   "source": [
    "We are expecting to train a model that can classify the stage of cancer for new samples with its proteome data. \n",
    "Despite the size of our training data being large, it is still a selection from all possible proteomes which relate to breast cancer, thus we expect our model to have accuracy among a subgroup of breast cancer patients.\n",
    "\n",
    "Such model is significant for it not only provides an usable practice in classifying existing patients, but also generates knowledge in relevant fields by identifying a combination of proteomes that have a high correlation to cancer stage development.\n",
    "\n",
    "Once a model that is sufficiently accurate on this dataset is established, it is reasonable to ask about the reproducibility of this accuracy on other samples of breast cancer patients, and eventually the generalizability towards other subgroups of cancer patients."
   ]
  }
 ],
 "metadata": {
  "kernelspec": {
   "display_name": "R",
   "language": "R",
   "name": "ir"
  },
  "language_info": {
   "codemirror_mode": "r",
   "file_extension": ".r",
   "mimetype": "text/x-r-source",
   "name": "R",
   "pygments_lexer": "r",
   "version": "4.2.2"
  }
 },
 "nbformat": 4,
 "nbformat_minor": 5
}
