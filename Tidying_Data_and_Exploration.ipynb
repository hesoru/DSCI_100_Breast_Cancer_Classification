{
 "cells": [
  {
   "cell_type": "markdown",
   "id": "f0bcb0d4-5302-4f93-8bdc-9d31e475dd05",
   "metadata": {},
   "source": [
    "# Tidying Data and Preliminary Exploration #"
   ]
  },
  {
   "cell_type": "markdown",
   "id": "8b04e9d3-4a95-4dad-9949-622d9c05b775",
   "metadata": {},
   "source": [
    "Load packages:"
   ]
  },
  {
   "cell_type": "code",
   "execution_count": null,
   "id": "b6bf95ba-83d8-4e46-8cb3-8cd035c509f9",
   "metadata": {
    "tags": []
   },
   "outputs": [],
   "source": [
    "library(\"tidyverse\")\n",
    "library(\"stringr\")\n",
    "library(\"janitor\")\n",
    "library(\"tidymodels\")\n",
    "\n",
    "set.seed(1000)"
   ]
  },
  {
   "cell_type": "markdown",
   "id": "f4906e11-2c0b-4bf3-a561-427e59509789",
   "metadata": {
    "tags": []
   },
   "source": [
    "# Tidying Data #"
   ]
  },
  {
   "cell_type": "markdown",
   "id": "4c8d94c9-03cb-4161-8dfa-1963eaa5b6ab",
   "metadata": {},
   "source": [
    "Read in proteome and clinical data:"
   ]
  },
  {
   "cell_type": "code",
   "execution_count": null,
   "id": "05351134-bac2-4243-bd9e-c6b61813f34e",
   "metadata": {
    "tags": []
   },
   "outputs": [],
   "source": [
    "# reading the proteome and clinical data CSVs, cleaning column names\n",
    "proteome_data <- read_csv(\"Original Datsets/77_cancer_proteomes_CPTAC_itraq.csv\")\n",
    "\n",
    "clinical_data <- read_csv(\"Original Datasets/clinical_data_breast_cancer.csv\") \n",
    "clinical_data <- clean_names(clinical_data)"
   ]
  },
  {
   "cell_type": "markdown",
   "id": "3ee61772-8477-4d9d-a6ee-4035742e7d7d",
   "metadata": {},
   "source": [
    "Change complete_tcga_id in clinical and proteome data sets to uniform format."
   ]
  },
  {
   "cell_type": "code",
   "execution_count": null,
   "id": "7a3a7d09-1794-4852-bc28-c1ee810ba838",
   "metadata": {
    "tags": []
   },
   "outputs": [],
   "source": [
    "# clinical data: change complete_tcga_id to uniform format\n",
    "clinical_data[c(\"tcga\", \"tcga_code_1\", \"tcga_code_2\")] <- str_split_fixed(clinical_data$complete_tcga_id, \"-\", 3)\n",
    "clinical_data$tcga_id <- paste(clinical_data$tcga_code_1, clinical_data$tcga_code_2, sep = \"-\")\n",
    "clinical_data_tidy <- clinical_data[-c(1, 31:33)] %>% relocate(tcga_id, .before = gender)\n",
    "\n",
    "# proteome data: convert the donor columns into a single donor column\n",
    "proteome_data_longer <- pivot_longer(proteome_data, 4:86, names_to = \"complete_tcga_id\", values_to = \"protein_expression_log2_iTRAQ_ratios\")\n",
    "# proteome data: change complete_tcga_id to uniform format\n",
    "proteome_data_longer[c(\"tcga_id\", \"tcga_id_2\")] <- str_split_fixed(proteome_data_longer$complete_tcga_id, \"\\\\.\", 2)\n",
    "proteome_data_longer_tidy <- proteome_data_longer[-c(4, 7)] %>% relocate(tcga_id, .before = RefSeq_accession_number)"
   ]
  },
  {
   "cell_type": "markdown",
   "id": "742c4af9-4fdb-4c99-a34a-8c76dc0e231c",
   "metadata": {
    "tags": []
   },
   "source": [
    "Merge proteome and clinical data by tcga_id:"
   ]
  },
  {
   "cell_type": "code",
   "execution_count": null,
   "id": "b03641df-e783-4990-b42a-782ed2b65f22",
   "metadata": {
    "tags": []
   },
   "outputs": [],
   "source": [
    "proteome_and_clinical_data_tidy <- merge(proteome_data_longer_tidy, clinical_data_tidy, by=\"tcga_id\")\n",
    "\n",
    "# validate that there are 77 donors and 12,553 genes per donor\n",
    "donors_and_genes_per_donor <- proteome_and_clinical_data_tidy %>% group_by(tcga_id) %>% count()\n",
    "donors_and_genes_per_donor\n",
    "# 77 donors (tcga_id) and 12,553 genes (n) per donor"
   ]
  },
  {
   "cell_type": "markdown",
   "id": "8f97d1a4-a106-4a4b-bc32-095a2984c2fb",
   "metadata": {},
   "source": [
    "## Final Outputs: Tidying Data ##"
   ]
  },
  {
   "cell_type": "code",
   "execution_count": null,
   "id": "8dd9252d-ca64-4616-970c-fe2021b1261d",
   "metadata": {
    "tags": []
   },
   "outputs": [],
   "source": [
    "#clinical_data_tidy \n",
    "#proteome_and_clinical_data_tidy\n",
    "\n",
    "write.csv(proteome_and_clinical_data_tidy, \"DSCI_100_Breast_Cancer_Project/Data/proteome_and_clinical_data_tidy.csv\")"
   ]
  },
  {
   "cell_type": "markdown",
   "id": "8f92b48e-eb59-424d-b34c-e47eba58e242",
   "metadata": {},
   "source": [
    "# Finding Most Highly Expressed Proteins in Stage III+ Breast Cancer #"
   ]
  },
  {
   "cell_type": "markdown",
   "id": "5bb0b25f-be41-42d5-bef8-08d6de02b385",
   "metadata": {},
   "source": [
    "Determine top 10 most highly expressed proteins, when expression is averaged across all the III+ AJCC stages in the unsplit data set:"
   ]
  },
  {
   "cell_type": "code",
   "execution_count": null,
   "id": "8fe0c21f-6dc5-4bfc-887e-24509626b9b0",
   "metadata": {
    "tags": []
   },
   "outputs": [],
   "source": [
    "# filter for stage III+ cancer, average protein expression for each gene across all donors, and determine top 10 most highly expressed proteins\n",
    "top_10_mean_protein_expression_genes_stage_III_plus <- proteome_and_clinical_data_tidy %>%\n",
    "  filter(ajcc_stage == c(\"Stage III\", \"Stage IIIA\", \"Stage IIIB\", \"Stage IIIC\", \"Stage IV\")) %>%\n",
    "  group_by(RefSeq_accession_number) %>%\n",
    "  summarize(mean_protein_expression_log2_iTRAQ_ratios = mean(protein_expression_log2_iTRAQ_ratios, na.rm = TRUE)) %>%\n",
    "  arrange(desc(mean_protein_expression_log2_iTRAQ_ratios)) %>%\n",
    "  slice(1:10)\n",
    "\n",
    "# create gene_symbol and gene_name labels for the RefSeq_accession_number\n",
    "labels <- proteome_and_clinical_data_tidy %>%\n",
    "  filter(ajcc_stage == \"Stage IV\") %>%\n",
    "  group_by(RefSeq_accession_number) %>%\n",
    "  summarize(gene_symbol = gene_symbol,\n",
    "            gene_name = gene_name)\n",
    "\n",
    "# merge labels and top 10 proteins to label RefSeq_accession_number\n",
    "top_10_mean_protein_expression_genes_stage_III_plus <- merge(labels, top_10_mean_protein_expression_genes_stage_III_plus, by=\"RefSeq_accession_number\")\n",
    "top_10_mean_protein_expression_genes_stage_III_plus"
   ]
  },
  {
   "cell_type": "markdown",
   "id": "0c3f9ef1-2f73-431e-8786-f30cf3582a86",
   "metadata": {
    "tags": []
   },
   "source": [
    "**These 10 proteins will potentially be used as parameters in our classifier.**"
   ]
  },
  {
   "cell_type": "markdown",
   "id": "85067330-b163-4352-a643-fb9267566738",
   "metadata": {},
   "source": [
    "## Final Outputs: Finding Most Highly Expressed Proteins in Stage III+ Breast Cancer ##"
   ]
  },
  {
   "cell_type": "code",
   "execution_count": null,
   "id": "1c1f3a43-84d0-43e0-b971-12a4a2752168",
   "metadata": {},
   "outputs": [],
   "source": [
    "#top_10_mean_protein_expression_genes_stage_III_plus"
   ]
  },
  {
   "cell_type": "markdown",
   "id": "dc6272ea-a031-47d9-a512-be484484f77e",
   "metadata": {
    "tags": []
   },
   "source": [
    "# Split Clinical Data into Training and Testing Sets #"
   ]
  },
  {
   "cell_type": "code",
   "execution_count": null,
   "id": "2ffa2872-23ab-45a9-9c6c-22f869ddd2df",
   "metadata": {
    "tags": []
   },
   "outputs": [],
   "source": [
    "clinical_data_tidy_split <- initial_split(data = clinical_data_tidy, prop = 0.75, strata = ajcc_stage)\n",
    "clinical_data_tidy_training <- training(clinical_data_tidy_split)\n",
    "clinical_data_tidy_testing <- testing(clinical_data_tidy_split)\n",
    "\n",
    "clinical_data_tidy_training\n",
    "clinical_data_tidy_testing"
   ]
  },
  {
   "cell_type": "markdown",
   "id": "a614f7b5-e800-49ef-a632-eb0dc7f09c40",
   "metadata": {},
   "source": [
    "Merge training clinical and proteome data, and testing clinical and proteome data."
   ]
  },
  {
   "cell_type": "code",
   "execution_count": null,
   "id": "0f3f7bee-384a-4af7-b8dd-9d6924e175f7",
   "metadata": {},
   "outputs": [],
   "source": [
    "# merge proteome and clinical training data\n",
    "proteome_and_clinical_data_training_merged <- merge(proteome_data_longer_tidy, clinical_data_tidy_training, by=\"tcga_id\")\n",
    "proteome_and_clinical_data_training_tidy <- mutate(proteome_and_clinical_data_training_merged, ajcc_stage = as_factor(ajcc_stage))\n",
    "proteome_and_clinical_data_training_tidy\n",
    "\n",
    "# merge proteome and clinical testing data\n",
    "proteome_and_clinical_data_testing_merged <- merge(proteome_data_longer_tidy, clinical_data_tidy_testing, by=\"tcga_id\")\n",
    "proteome_and_clinical_data_testing_tidy <- mutate(proteome_and_clinical_data_testing_merged, ajcc_stage = as_factor(ajcc_stage))\n",
    "proteome_and_clinical_data_testing_tidy"
   ]
  },
  {
   "cell_type": "markdown",
   "id": "4ff6230c-2357-488f-b233-ab86633771f9",
   "metadata": {},
   "source": [
    "## Final Outputs: Splitting Data ##"
   ]
  },
  {
   "cell_type": "code",
   "execution_count": null,
   "id": "7a52a8b0-9c54-4b7d-8b56-63e430c442d3",
   "metadata": {},
   "outputs": [],
   "source": [
    "#proteome_and_clinical_data_training_tidy\n",
    "#proteome_and_clinical_data_testing_tidy"
   ]
  },
  {
   "cell_type": "code",
   "execution_count": null,
   "id": "1ae96abc-8de6-496d-949e-30a188a3da55",
   "metadata": {
    "tags": []
   },
   "outputs": [],
   "source": [
    "clinical_data_tidy_split <- initial_split(data = clinical_data_tidy, prop = 0.75, strata = ajcc_stage)\n",
    "clinical_data_tidy_training <- training(clinical_data_tidy_split)\n",
    "clinical_data_tidy_testing <- testing(clinical_data_tidy_split)"
   ]
  },
  {
   "cell_type": "code",
   "execution_count": null,
   "id": "1a75f564-66a7-4546-bfca-6052b1092faf",
   "metadata": {
    "tags": []
   },
   "outputs": [],
   "source": [
    "clinical_data_tidy_training\n",
    "clinical_data_tidy_testing"
   ]
  },
  {
   "cell_type": "code",
   "execution_count": null,
   "id": "19bc0edf-a227-4e36-9acf-a7b83dcd56b7",
   "metadata": {
    "tags": []
   },
   "outputs": [],
   "source": [
    "clinical_data_tidy_training <- merge(clinical_data_tidy_training, proteome_and_clinical_data_tidy, by = \"tcga_id\")\n",
    "clinical_data_tidy_testing <- merge(clinical_data_tidy_training, proteome_and_clinical_data_tidy, by = \"tcga_id\")\n",
    "\n",
    "\n",
    "clinical_data_tidy_training\n",
    "clinical_data_tidy_testing"
   ]
  },
  {
   "cell_type": "markdown",
   "id": "361de227-2503-4664-a8a4-2274ff231260",
   "metadata": {},
   "source": [
    "# Exploration of Training Data #"
   ]
  },
  {
   "cell_type": "code",
   "execution_count": null,
   "id": "86e494da-3701-4d7a-bbbf-fb489a5ab164",
   "metadata": {
    "tags": []
   },
   "outputs": [],
   "source": [
    "# determine number of patients in each AJCC stage \n",
    "patients_per_stage <- proteome_and_clinical_data_training_tidy %>%\n",
    "  group_by(ajcc_stage) %>%\n",
    "  count() %>%\n",
    "  mutate(patients = n / 12553)\n",
    "patients_per_stage"
   ]
  },
  {
   "cell_type": "markdown",
   "id": "b826a0de-d250-4e45-b809-5432e1599d86",
   "metadata": {
    "tags": []
   },
   "source": [
    "- 11 stages, most patients in Stage II\n",
    "- only 1 patient in stage IV: need to expand subset to patients in stage III+ (n=15)"
   ]
  },
  {
   "cell_type": "markdown",
   "id": "a131e9be-637f-42e5-8c3a-3ce87f36a67d",
   "metadata": {},
   "source": [
    "**Clinical Data:**"
   ]
  },
  {
   "cell_type": "code",
   "execution_count": null,
   "id": "d11f6b96-ae3b-495c-945a-6a2e650e5b24",
   "metadata": {},
   "outputs": [],
   "source": [
    "patients_by_hormone_receptor_status <- clinical_data_tidy_training %>%\n",
    "  group_by(er_status, pr_status) %>%\n",
    "  summarise(count=n())\n",
    "patients_by_hormone_receptor_status\n",
    "\n",
    "patients_by_TNM_class <- clinical_data_tidy_training %>%\n",
    "  group_by(tumor, node, metastasis) %>%\n",
    "  summarise(count=n())\n",
    "patients_by_TNM_class"
   ]
  },
  {
   "cell_type": "markdown",
   "id": "5b78ab26-8238-4292-b383-01b34bb61327",
   "metadata": {},
   "source": [
    "## Final Outputs: Data Exploration ## "
   ]
  },
  {
   "cell_type": "code",
   "execution_count": null,
   "id": "22c6e218-0237-4de1-a0e9-b7f3255c9a67",
   "metadata": {
    "tags": []
   },
   "outputs": [],
   "source": [
    "#patients_per_stage\n",
    "#patients_by_hormone_receptor_status\n",
    "#patients_by_TNM_class"
   ]
  }
 ],
 "metadata": {
  "kernelspec": {
   "display_name": "R",
   "language": "R",
   "name": "ir"
  },
  "language_info": {
   "codemirror_mode": "r",
   "file_extension": ".r",
   "mimetype": "text/x-r-source",
   "name": "R",
   "pygments_lexer": "r",
   "version": "4.2.2"
  }
 },
 "nbformat": 4,
 "nbformat_minor": 5
}
