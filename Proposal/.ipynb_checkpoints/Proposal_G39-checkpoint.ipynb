{
 "cells": [
  {
   "cell_type": "markdown",
   "id": "190458e2-e7f1-4446-b7b3-d0725f302142",
   "metadata": {},
   "source": [
    "# Project Proposal - Group 39"
   ]
  },
  {
   "cell_type": "code",
   "execution_count": 17,
   "id": "fddfcbb1-62cb-4254-b6b5-a6fed3b85ead",
   "metadata": {
    "tags": []
   },
   "outputs": [],
   "source": [
    "library(\"tidyverse\")\n",
    "\n",
    "set.seed(1000)"
   ]
  },
  {
   "cell_type": "markdown",
   "id": "a3492485-da98-4549-9843-f01f0d6a967e",
   "metadata": {},
   "source": [
    "## 1. Introduction\n",
    "\n",
    "The topic of our project focuses on the analysis of breast cancer samples and their proteomes to predict the stage of breast cancer. The data set we will be using for this is called \"Breast Cancer Proteomes\" sourced from Kaggle and uploaded by Kajot at the following URL:\n",
    "\n",
    "https://www.kaggle.com/datasets/piotrgrabo/breastcancerproteomes/?fbclid=IwAR0c9gONWYSIGAQ6R66rUkjaFVtiwxH15b_XfVATdICBEEp0Ait9o6VZaIY\n",
    "\n",
    "This dataset contains iTRAQ proteomics data for over 12,000 proteins in 77 breast cancer samples and 3 healthy breast samples. The samples used in this data set were collected by the Clinical Proteomic Tumour Analysis Consortium.\n",
    "\n",
    "In order to narrow the scope of the data, our group will be looking at the top 10 most highly expressed proteins in tumors that are at AJCC stage III or higher. AJCC staging is the Cancer Staging System developed by the American Joint Committee on Cancer, that classifies the severity of cancer with regards to the primary tumor and can be used to show the extent in which the cancer has spread. This tool is helpful for determining a prognosis and can serve as the basis for developing the most effective treatment plan on an individual basis.\n",
    "\n",
    "We are investigating whether the protein expression of the top 10 most highly expressed proteins in tumors that are AJCC stage III or higher can accurately predict and classify the AJCC stage of breast cancer."
   ]
  },
  {
   "cell_type": "markdown",
   "id": "284240d9-ed41-4e57-a1de-a72b6747d93c",
   "metadata": {},
   "source": [
    "## 2. Preliminary Analysis\n",
    "\n",
    "Our GitHub repository can be found at: https://github.com/hesoru/DSCI_100_Breast_Cancer_Classification\n",
    "\n",
    "Dataset Source: Our Breast Cancer Proteomes dataset was obtained from Kaggle at the following URL: \n",
    "\n",
    "https://www.kaggle.com/datasets/piotrgrabo/breastcancerproteomes/?fbclid=IwAR0c9gONWYSIGAQ6R66rUkjaFVtiwxH15b_XfVATdICBEEp0Ait9o6VZaIY\n",
    "\n",
    "This dataset was downloaded and the following files were uploaded to our GitHub repository (hesoru/DSCI_100_Breast_Cancer_Classification/Original_Datasets)\n",
    "- Proteomics data: https://github.com/hesoru/DSCI_100_Breast_Cancer_Classification/blob/main/Original_Datasets/77_cancer_proteomes_CPTAC_itraq.csv\n",
    "- Clinical data: https://github.com/hesoru/DSCI_100_Breast_Cancer_Classification/blob/main/Original_Datasets/clinical_data_breast_cancer.csv\n",
    "\n",
    "We used a Jupyter notebook to document reading, cleaning, and wrangling of our data into a tidy format, and preliminary exploration of the tidied dataset. This notebook can be found at:\n",
    "\n",
    "https://github.com/hesoru/DSCI_100_Breast_Cancer_Classification/blob/main/Tidying_Data_and_Exploration.ipynb\n",
    "\n",
    "\n",
    "\n",
    "| AJCC Stage | Patients |\n",
    "|------------|----------|\n",
    "|Stage I | 2 |\n",
    "|Stage IA | 3 |\n",
    "|Stage IB | 1 |\n",
    "|Stage II | 8 |\n",
    "|Stage IIA | 21 |\n",
    "|Stage IIB | 14 |\n",
    "|Stage III | 2 |\n",
    "|Stage IIIA | 6 |\n",
    "|Stage IIIB | 4 |\n",
    "|Stage IIIC | 4 |\n",
    "|Stage IV | 0 |"
   ]
  },
  {
   "cell_type": "code",
   "execution_count": 18,
   "id": "5f1372a9-79bd-4fa5-a8a9-33731a4e0a31",
   "metadata": {
    "tags": []
   },
   "outputs": [
    {
     "ename": "ERROR",
     "evalue": "Error: 'Outputs/top_10_mean_protein_expression_genes_stage_III_plus' does not exist in current working directory ('/home/jovyan/DSCI_100_Breast_Cancer_Classification/Proposal').\n",
     "output_type": "error",
     "traceback": [
      "Error: 'Outputs/top_10_mean_protein_expression_genes_stage_III_plus' does not exist in current working directory ('/home/jovyan/DSCI_100_Breast_Cancer_Classification/Proposal').\nTraceback:\n",
      "1. read_csv(\"Outputs/top_10_mean_protein_expression_genes_stage_III_plus\")",
      "2. vroom::vroom(file, delim = \",\", col_names = col_names, col_types = col_types, \n .     col_select = {\n .         {\n .             col_select\n .         }\n .     }, id = id, .name_repair = name_repair, skip = skip, n_max = n_max, \n .     na = na, quote = quote, comment = comment, skip_empty_rows = skip_empty_rows, \n .     trim_ws = trim_ws, escape_double = TRUE, escape_backslash = FALSE, \n .     locale = locale, guess_max = guess_max, show_col_types = show_col_types, \n .     progress = progress, altrep = lazy, num_threads = num_threads)",
      "3. vroom_(file, delim = delim %||% col_types$delim, col_names = col_names, \n .     col_types = col_types, id = id, skip = skip, col_select = col_select, \n .     name_repair = .name_repair, na = na, quote = quote, trim_ws = trim_ws, \n .     escape_double = escape_double, escape_backslash = escape_backslash, \n .     comment = comment, skip_empty_rows = skip_empty_rows, locale = locale, \n .     guess_max = guess_max, n_max = n_max, altrep = vroom_altrep(altrep), \n .     num_threads = num_threads, progress = progress)",
      "4. (function (path, write = FALSE) \n . {\n .     if (is.raw(path)) {\n .         return(rawConnection(path, \"rb\"))\n .     }\n .     if (!is.character(path)) {\n .         return(path)\n .     }\n .     if (is_url(path)) {\n .         if (requireNamespace(\"curl\", quietly = TRUE)) {\n .             con <- curl::curl(path)\n .         }\n .         else {\n .             rlang::inform(\"`curl` package not installed, falling back to using `url()`\")\n .             con <- url(path)\n .         }\n .         ext <- tolower(tools::file_ext(path))\n .         return(switch(ext, zip = , bz2 = , xz = {\n .             close(con)\n .             stop(\"Reading from remote `\", ext, \"` compressed files is not supported,\\n\", \n .                 \"  download the files locally first.\", call. = FALSE)\n .         }, gz = gzcon(con), con))\n .     }\n .     path <- enc2utf8(path)\n .     p <- split_path_ext(basename_utf8(path))\n .     if (write) {\n .         path <- normalizePath_utf8(path, mustWork = FALSE)\n .     }\n .     else {\n .         path <- check_path(path)\n .     }\n .     if (rlang::is_installed(\"archive\")) {\n .         formats <- archive_formats(p$extension)\n .         extension <- p$extension\n .         while (is.null(formats) && nzchar(extension)) {\n .             extension <- split_path_ext(extension)$extension\n .             formats <- archive_formats(extension)\n .         }\n .         if (!is.null(formats)) {\n .             p$extension <- extension\n .             if (write) {\n .                 if (is.null(formats[[1]])) {\n .                   return(archive::file_write(path, filter = formats[[2]]))\n .                 }\n .                 return(archive::archive_write(path, p$path, format = formats[[1]], \n .                   filter = formats[[2]]))\n .             }\n .             if (is.null(formats[[1]])) {\n .                 return(archive::file_read(path, filter = formats[[2]]))\n .             }\n .             return(archive::archive_read(path, format = formats[[1]], \n .                 filter = formats[[2]]))\n .         }\n .     }\n .     if (!write) {\n .         compression <- detect_compression(path)\n .     }\n .     else {\n .         compression <- NA\n .     }\n .     if (is.na(compression)) {\n .         compression <- tools::file_ext(path)\n .     }\n .     if (write && compression == \"zip\") {\n .         stop(\"Can only read from, not write to, .zip\", call. = FALSE)\n .     }\n .     switch(compression, gz = gzfile(path, \"\"), bz2 = bzfile(path, \n .         \"\"), xz = xzfile(path, \"\"), zip = zipfile(path, \"\"), \n .         if (!has_trailing_newline(path)) {\n .             file(path)\n .         } else {\n .             path\n .         })\n . })(\"Outputs/top_10_mean_protein_expression_genes_stage_III_plus\")",
      "5. check_path(path)",
      "6. stop(\"'\", path, \"' does not exist\", if (!is_absolute_path(path)) {\n .     paste0(\" in current working directory ('\", getwd(), \"')\")\n . }, \".\", call. = FALSE)"
     ]
    }
   ],
   "source": [
    "# read in data\n",
    "top_10_mean_protein_expression_genes_stage_III_plus <- read_csv(\"Outputs/top_10_mean_protein_expression_genes_stage_III_plus\")\n",
    "top_10_mean_protein_expression_genes_stage_III_plus\n",
    "\n",
    "patients_per_stage <- read_csv(\"Outputs/patients_per_stage\")\n",
    "patients_per_stage\n",
    "\n",
    "proteome_and_clinical_data_training_merged <- read_csv(\"Outputs/proteome_and_clinical_data_training_merged.csv\")\n",
    "\n",
    "# visualize protein expression distributions across all AJCC stages, investigating only the top 10 most highly expressed proteins in stage III+ tumors\n",
    "expression_distribution_plot <- proteome_and_clinical_data_training_merged |>\n",
    "    ggplot(aes(x = protein_expression_log2_iTRAQ_ratios, fill = ajcc_stage)) +\n",
    "    geom_histogram(bins = 10, binwidth = 1) +\n",
    "    facet_grid(rows = vars(ajcc_stage), cols = vars(RefSeq_accession_number, gene_symbol)) +\n",
    "    labs(x = \"Protein Expression (Log2 iTRAQ ratios)\", y = \"Number of Tumor Samples\") +\n",
    "    theme(text = element_text(size = 13)) +\n",
    "    theme(legend.position = \"none\")\n",
    "expression_distribution_plot"
   ]
  },
  {
   "cell_type": "markdown",
   "id": "d896ce68-5a4d-468b-a393-5307701f85d8",
   "metadata": {
    "jp-MarkdownHeadingCollapsed": true,
    "tags": []
   },
   "source": [
    "## 3. Methods\n",
    "\n",
    "We will perform K nearest neighbors classification of our testing dataset (25% of our entire dataset):\n",
    "- **Parameters:** the log2 protein expression of the top 10 most highly expressed proteins in stage III+ breast cancer, identified earlier in our analysis (see jupyter notebook on the GitHub)\n",
    "- **Predicted class:** AJCC stage of tumor samples\n",
    "\n",
    "\n",
    "Our classifier will be trained on our training data (75% of our entire dataset). We will tune K using our training dataset and assess classifier accuracy by comparing classifier predictions of AJCC stage to the actual AJCC stages of our tumor samples in the testing dataset.\n",
    "\n",
    "\n",
    "We aim to create the following visualizations:\n",
    "- Bar plot with AJCC class on the x-axis, and sample counts under each class based on the classifier vs. actual observations on the y-axis\n",
    "- Estimated accuracy of classifier on the y-axis and neighbors on the x-axis (tuning K)\n",
    "- Since we're using 10 parameters for our classifier, it's not practical to plot the training/testing data on a scatterplot including all the parameters (10 axes!)"
   ]
  },
  {
   "cell_type": "markdown",
   "id": "35d5d90d-6bdd-4e29-bd70-cfb5557b7f32",
   "metadata": {},
   "source": [
    "## 4. Expected Outcomes and Significance"
   ]
  },
  {
   "cell_type": "markdown",
   "id": "d430915b-c7b6-49d2-8cb1-c5e6ab14b52a",
   "metadata": {
    "tags": []
   },
   "source": [
    "We are expecting to train a model that can classify the stage of breast cancer for new samples using proteome data. Despite the size of our training data being large, it is still a selection from all possible proteomes which relate to breast cancer, thus we expect our model to have accuracy among a subgroup of breast cancer patients.\n",
    "\n",
    "Such a classifier model is significant, for it not only provides a usable practice in classifying existing patients, but also generates knowledge in relevant fields by identifying a combination of proteomes that have a high correlation with cancer development.\n",
    "\n",
    "Once a classifier model that is sufficiently accurate on this dataset is established, it is reasonable to ask about the reproducibility of accuracy on other samples of breast cancer patients, and eventually the generalizability towards other subgroups of cancer patients."
   ]
  }
 ],
 "metadata": {
  "kernelspec": {
   "display_name": "R",
   "language": "R",
   "name": "ir"
  },
  "language_info": {
   "codemirror_mode": "r",
   "file_extension": ".r",
   "mimetype": "text/x-r-source",
   "name": "R",
   "pygments_lexer": "r",
   "version": "4.2.2"
  }
 },
 "nbformat": 4,
 "nbformat_minor": 5
}
