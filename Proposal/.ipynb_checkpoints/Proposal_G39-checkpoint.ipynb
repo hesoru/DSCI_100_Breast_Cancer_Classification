{
 "cells": [
  {
   "cell_type": "markdown",
   "id": "190458e2-e7f1-4446-b7b3-d0725f302142",
   "metadata": {},
   "source": [
    "# Project Proposal - Group 39"
   ]
  },
  {
   "cell_type": "markdown",
   "id": "a3492485-da98-4549-9843-f01f0d6a967e",
   "metadata": {},
   "source": [
    "## 1. Introduction"
   ]
  },
  {
   "cell_type": "markdown",
   "id": "284240d9-ed41-4e57-a1de-a72b6747d93c",
   "metadata": {},
   "source": [
    "## 2. Preliminary Analysis"
   ]
  },
  {
   "cell_type": "markdown",
   "id": "d896ce68-5a4d-468b-a393-5307701f85d8",
   "metadata": {},
   "source": [
    "## 3. Methods"
   ]
  },
  {
   "cell_type": "markdown",
   "id": "35d5d90d-6bdd-4e29-bd70-cfb5557b7f32",
   "metadata": {},
   "source": [
    "## 4.Expected outcomes and significance"
   ]
  },
  {
   "cell_type": "code",
   "execution_count": null,
   "id": "b3688bc4-5918-4373-9733-73eb16f3e05d",
   "metadata": {},
   "outputs": [],
   "source": []
  }
 ],
 "metadata": {
  "kernelspec": {
   "display_name": "R",
   "language": "R",
   "name": "ir"
  },
  "language_info": {
   "codemirror_mode": "r",
   "file_extension": ".r",
   "mimetype": "text/x-r-source",
   "name": "R",
   "pygments_lexer": "r",
   "version": "4.3.1"
  }
 },
 "nbformat": 4,
 "nbformat_minor": 5
}
