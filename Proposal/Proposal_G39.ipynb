{
 "cells": [
  {
   "cell_type": "markdown",
   "id": "190458e2-e7f1-4446-b7b3-d0725f302142",
   "metadata": {},
   "source": [
    "# Project Proposal - Group 39"
   ]
  },
  {
   "cell_type": "markdown",
   "id": "a3492485-da98-4549-9843-f01f0d6a967e",
   "metadata": {},
   "source": [
    "## 1. Introduction :\n",
    "\n",
    "\n",
    "The topic of our project focuses on the analysis of breast cancer samples and their proteomes to predict stages of cancer. The data set we will be using for this is called “Breast Cancer Proteomes” sourced from Kaggle and uploaded by Kajot. This data contains 77 breast cancer samples with over 12,000 genes per sample and analyzes the proteomes found in each gene. The samples used in this data set were collected by the Clinical Proteomic Tumour Analysis Consortium. In order to narrow the scope of the data, our group will be looking at the top 10 highly expressed proteins in tumours that are AJCC stage three or higher. AJCC staging is the Cancer Staging System developed by the American Joint Committee on Cancer that classifies the severity of cancer in regard to the primary tumour and can be used to show the extent in which the cancer has spread. This tool is helpful for determining a prognosis and can serve as the basis for developing the most effective treatment plan on an individual basis. The question we are trying to answer is, by using the top 10 highly expressed proteins in tumours that are AJCC stage three or higher, can we identify a pattern that correlates to the severity of the cancer in order to predict and classify the stage?"
   ]
  },
  {
   "cell_type": "markdown",
   "id": "284240d9-ed41-4e57-a1de-a72b6747d93c",
   "metadata": {},
   "source": [
    "## 2. Preliminary Analysis"
   ]
  },
  {
   "cell_type": "markdown",
   "id": "d896ce68-5a4d-468b-a393-5307701f85d8",
   "metadata": {},
   "source": [
    "## 3. Methods"
   ]
  },
  {
   "cell_type": "markdown",
   "id": "35d5d90d-6bdd-4e29-bd70-cfb5557b7f32",
   "metadata": {},
   "source": [
    "## 4.Expected outcomes and significance"
   ]
  },
  {
   "cell_type": "code",
   "execution_count": null,
   "id": "b3688bc4-5918-4373-9733-73eb16f3e05d",
   "metadata": {},
   "outputs": [],
   "source": []
  }
 ],
 "metadata": {
  "kernelspec": {
   "display_name": "R",
   "language": "R",
   "name": "ir"
  },
  "language_info": {
   "codemirror_mode": "r",
   "file_extension": ".r",
   "mimetype": "text/x-r-source",
   "name": "R",
   "pygments_lexer": "r",
   "version": "4.2.2"
  }
 },
 "nbformat": 4,
 "nbformat_minor": 5
}
